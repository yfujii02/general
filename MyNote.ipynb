{
 "cells": [
  {
   "cell_type": "markdown",
   "metadata": {},
   "source": [
    "To do list\n",
    "==\n",
    "\n",
    "* Make a design of glass fibre measurement apparatus\n",
    "\n",
    "    * How to cut fibres safely?\n",
    "    * Design to fix the fibre and SiPM\n",
    "        * Also want to make a robust SiPM attached PCB\n",
    "        * Using some thick and black material to fix the fibre(s)?\n",
    "        * Using screws to fix SiPM to the above structure\n",
    "    * Using LED\n",
    "        * ~~Order LEDs (wavelength 350 - 525, ~600, ~700)~~\n",
    "            * Done\n",
    "        * Holder to fix LEDs to the fibre\n",
    "        \n",
    "        * ~~Prepare LED driver that can flash LED in a blink of an eye (<20ns)~~\n",
    "            * Picoscope 6404C can be used as the LED driver\n",
    "\n",
    "    * Using Plastic scintillator\n",
    "        * Optical coupling between scintillator and fibre\n",
    "        * How to compare with and without fibre?\n",
    "\n",
    "* Summarise the current geometry study situation\n",
    "* Do the neutron simulation outside of the detector solenoid in the COMET experiment hall\n",
    "* Organise the Monash HEP webinar\n",
    "* Write the technical notes\n",
    "    * CTH geometry design\n",
    "    * Radhard for COTTRI\n"
   ]
  },
  {
   "cell_type": "markdown",
   "metadata": {},
   "source": [
    "![Conceptual design of the LED+fibre fixer](figs/LED_Fibre_DesignConcept.jpeg)"
   ]
  },
  {
   "cell_type": "markdown",
   "metadata": {},
   "source": [
    "Notes\n",
    "=="
   ]
  },
  {
   "cell_type": "markdown",
   "metadata": {},
   "source": [
    "Some useful links\n",
    "==\n",
    "\n",
    "* Machine learning in HEP https://github.com/iml-wg/HEP-ML-Resources\n",
    "* PyHEP 2020 https://indico.cern.ch/event/882824/timetable/#20200713.detailed\n",
    "* Basic fiber optic terminations https://www.thefoa.org/tech/ref/basic/term.html\n",
    "* Fibre optic cables guid (RS Online) https://au.rs-online.com/web/generalDisplay.html?id=ideas-and-advice/fibre-optic-cables-guide\n",
    "* Monash Mechanical workshop https://www.monash.edu/engineering/departments/mechanical/research/mae-workshops-job-request\n"
   ]
  },
  {
   "cell_type": "code",
   "execution_count": null,
   "metadata": {},
   "outputs": [],
   "source": []
  }
 ],
 "metadata": {
  "kernelspec": {
   "display_name": "Python 3",
   "language": "python",
   "name": "python3"
  },
  "language_info": {
   "codemirror_mode": {
    "name": "ipython",
    "version": 3
   },
   "file_extension": ".py",
   "mimetype": "text/x-python",
   "name": "python",
   "nbconvert_exporter": "python",
   "pygments_lexer": "ipython3",
   "version": "3.7.3"
  }
 },
 "nbformat": 4,
 "nbformat_minor": 4
}
