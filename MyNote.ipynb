{
 "cells": [
  {
   "cell_type": "markdown",
   "metadata": {},
   "source": [
    "To do list\n",
    "==\n",
    "\n",
    "* Make a design of glass fibre measurement apparatus\n",
    "\n",
    "    * How to cut fibres safely?\n",
    "    * Design to fix the fibre and SiPM\n",
    "        * Also want to make a robust SiPM attached PCB\n",
    "        * Using some thick and black material to fix the fibre\n",
    "        * Using screws to fix SiPM to the above structure\n",
    "        * Frames are designed and to be produced using 3D printer\n",
    "            * Design is almost fixed\n",
    "    * Using LED\n",
    "        * ~~Order LEDs (wavelength 350 - 525, ~600, ~700)~~\n",
    "            * Done\n",
    "        * Holder to fix LEDs to the fibre\n",
    "        \n",
    "        * ~~Prepare LED driver that can flash LED in a blink of an eye (<20ns)~~\n",
    "            * Picoscope 6404C can be used as the LED driver\n",
    "\n",
    "    * Using Plastic scintillator\n",
    "        * Optical coupling between scintillator and fibre\n",
    "        * How to compare with and without fibre?\n",
    "\n",
    "* **Start thinking about the installation**\n",
    "\n",
    "* Summarise the current geometry study situation\n",
    "* Do the neutron simulation outside of the detector solenoid in the COMET experiment hall\n",
    "    * Geometry preparation is almost done\n",
    "* Organise the Monash HEP webinar\n",
    "* Write the technical notes\n",
    "    * CTH geometry design\n",
    "    * Radhard for COTTRI\n",
    "    \n",
    "* Preparation for 8GeV measurement\n",
    "    * Can be done in Dec2020\n",
    "        * Firmware should be prepared by Oct2020\n"
   ]
  },
  {
   "cell_type": "markdown",
   "metadata": {},
   "source": [
    "![Conceptual design of the LED+fibre fixer](figs/LED_Fibre_DesignConcept.jpeg)\n",
    "\n",
    "<img src=\"figs/FibreGuideAndSiPMCoverFibre1000.png\" width=\"40%\">\n",
    "<img src=\"figs/SiPM_PCB.png\" width=\"40%\">\n",
    "<img src=\"figs/FibreGuideAndSiPMCommonBase.png\" width=\"40%\">\n",
    "<!--![Cover](figs/FibreGuideAndSiPMCoverFibre1000.png)\n",
    "![PCB](figs/SiPM_PCB.png)\n",
    "![Base](figs/FibreGuideAndSiPMCommonBase.png)-->"
   ]
  },
  {
   "cell_type": "markdown",
   "metadata": {},
   "source": [
    "Notes\n",
    "==\n",
    "\n",
    "* Some measurement plan for fibres\n",
    "    1. Starting from 10m (uncutted) fibres without cutting them\n",
    "    2. Attenuation measurement with different wavelength LEDs (+ laser?)\n",
    "    3. Measure the independency on the bending radii?\n",
    "    4. Repeat measurement with different SiPM to see the possible systematic uncertanties\n",
    "    5. Repeat the measurement 1-4 with shorter length "
   ]
  },
  {
   "cell_type": "markdown",
   "metadata": {},
   "source": [
    "Some useful links\n",
    "==\n",
    "\n",
    "**Software**\n",
    "* Machine learning in HEP https://github.com/iml-wg/HEP-ML-Resources\n",
    "* PyHEP 2020 https://indico.cern.ch/event/882824/timetable/#20200713.detailed\n",
    "\n",
    "**Detectors**\n",
    "* Basic fiber optic terminations https://www.thefoa.org/tech/ref/basic/term.html\n",
    "* Fibre optic cables guid (RS Online) https://au.rs-online.com/web/generalDisplay.html?id=ideas-and-advice/fibre-optic-cables-guide\n",
    "* Monash Mechanical workshop https://www.monash.edu/engineering/departments/mechanical/research/mae-workshops-job-request\n",
    "\n",
    "* Cherenkov radiation-based three-dimensional position-sensitive PET detector: A Monte Carlo study https://aapm.onlinelibrary.wiley.com/doi/full/10.1002/mp.12851\n",
    "\n",
    "**Electronics**\n",
    "* Basic Concepts of Designing an RF PCB Board https://www.eeweb.com/circuit-projects/basic-concepts-of-designing-an-rf-pcb-board\n",
    "* PCBS LAYOUT GUIDELINES FOR RF & MIXED-SIGNAL https://www.maximintegrated.com/en/design/technical-documents/tutorials/5/5100.html\n",
    "* RF / Microwave PC Board Design and Layout https://www.changpuak.ch/electronics/downloads/050rfdesign.pdf\n",
    "\n",
    "**Database/tools**\n",
    "* Particle Data Group https://pdg.lbl.gov/index.html\n",
    "* NIST database https://physics.nist.gov/PhysRefData/Star/Text/intro.html\n",
    "* Refractive index database https://refractiveindex.info"
   ]
  },
  {
   "cell_type": "code",
   "execution_count": null,
   "metadata": {},
   "outputs": [],
   "source": []
  }
 ],
 "metadata": {
  "kernelspec": {
   "display_name": "Python 3",
   "language": "python",
   "name": "python3"
  },
  "language_info": {
   "codemirror_mode": {
    "name": "ipython",
    "version": 3
   },
   "file_extension": ".py",
   "mimetype": "text/x-python",
   "name": "python",
   "nbconvert_exporter": "python",
   "pygments_lexer": "ipython3",
   "version": "3.7.3"
  }
 },
 "nbformat": 4,
 "nbformat_minor": 4
}
